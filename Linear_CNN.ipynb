{
  "cells": [
    {
      "cell_type": "markdown",
      "metadata": {
        "id": "P_2sStOyaFjh"
      },
      "source": [
        "# CS 472 HW 1\n",
        "Ian McConachie,\n",
        "CS 472: Humphrey Shi, Steven Walton\n",
        "\n",
        "February 10, 2023\n"
      ]
    },
    {
      "cell_type": "markdown",
      "metadata": {
        "id": "1DvR2Dx7c2XH"
      },
      "source": [
        "# Introduction"
      ]
    },
    {
      "cell_type": "markdown",
      "metadata": {
        "id": "9NX9FgPEHIIX"
      },
      "source": [
        "For this homework we will be using Pytorch as our framework, so let's begin by importing the library."
      ]
    },
    {
      "cell_type": "code",
      "execution_count": 2,
      "metadata": {
        "id": "BK1wytbpHE9x"
      },
      "outputs": [],
      "source": [
        "import torch"
      ]
    },
    {
      "cell_type": "markdown",
      "metadata": {
        "id": "yA3wXce8G0x5"
      },
      "source": [
        "For the following exercises, we will primarily be using the CIFAR-10 data set which consists of 60000 32x32 RGB images which have been separed into 10 mutually exclusive, dinstinct classes (airplane, automobile, bird, cat, deer, dog, frog, horse, ship, and truck). The dataset was assembled as part of the publication *Learning Multiple Layers of Features from Tiny Images, Alex Krizhevsky, 2009.*\n",
        "\n",
        "Let's import the data into our workspace."
      ]
    },
    {
      "cell_type": "code",
      "execution_count": 3,
      "metadata": {
        "colab": {
          "base_uri": "https://localhost:8080/"
        },
        "id": "5Zb4270sGZLw",
        "outputId": "423ac8bd-29cd-4c9a-ffc4-327a75e73948"
      },
      "outputs": [
        {
          "output_type": "stream",
          "name": "stdout",
          "text": [
            "Downloading https://www.cs.toronto.edu/~kriz/cifar-10-python.tar.gz to ./cifar-10-python.tar.gz\n"
          ]
        },
        {
          "output_type": "stream",
          "name": "stderr",
          "text": [
            "100%|██████████| 170498071/170498071 [00:10<00:00, 16167998.09it/s]\n"
          ]
        },
        {
          "output_type": "stream",
          "name": "stdout",
          "text": [
            "Extracting ./cifar-10-python.tar.gz to ./\n"
          ]
        }
      ],
      "source": [
        "from torch.utils.data import DataLoader\n",
        "from torchvision import datasets\n",
        "from torchvision import transforms as T\n",
        "\n",
        "cifar_dataset = datasets.CIFAR10(root='./', train=True, download=True, transform=T.ToTensor())\n",
        "train_data = DataLoader(cifar_dataset, batch_size=1024)"
      ]
    },
    {
      "cell_type": "markdown",
      "metadata": {
        "id": "1FQ0pD0DNBuL"
      },
      "source": [
        "The code below takes a look at how each point in the dataset is formatted and then displays a visual representation of the first two pieces of data in the dataset. It is important to develop an intutive understanding of the data we are working with in order to approach the task at hand with machine learning.\n"
      ]
    },
    {
      "cell_type": "code",
      "execution_count": 4,
      "metadata": {
        "colab": {
          "base_uri": "https://localhost:8080/",
          "height": 409
        },
        "id": "XzaJb0BaMHTu",
        "outputId": "0c3a177f-eed9-4825-a9e8-41395cb3065b"
      },
      "outputs": [
        {
          "output_type": "stream",
          "name": "stdout",
          "text": [
            "Type: <class 'list'>\n",
            "Length: 2\n",
            "More Types: <class 'torch.Tensor'>, <class 'torch.Tensor'>\n",
            "Shapes: torch.Size([1024, 3, 32, 32]), torch.Size([1024])\n",
            "Labels: tensor([6, 9, 9,  ..., 1, 4, 6])\n",
            "\n"
          ]
        },
        {
          "output_type": "execute_result",
          "data": {
            "text/plain": [
              "<matplotlib.image.AxesImage at 0x7ae013122e60>"
            ]
          },
          "metadata": {},
          "execution_count": 4
        },
        {
          "output_type": "display_data",
          "data": {
            "text/plain": [
              "<Figure size 640x480 with 2 Axes>"
            ],
            "image/png": "[encoded data removed]"
          },
          "metadata": {}
        }
      ],
      "source": [
        "import matplotlib.pyplot as plt\n",
        "\n",
        "# Code to tell us shape of image data\n",
        "data = iter(train_data)\n",
        "single_point = next(data)\n",
        "print(f\"\"\"Type: {type(single_point)}\n",
        "Length: {len(single_point)}\n",
        "More Types: {type(single_point[0])}, {type(single_point[1])}\n",
        "Shapes: {single_point[0].shape}, {single_point[1].shape}\n",
        "Labels: {single_point[1]}\n",
        "\"\"\")\n",
        "\n",
        "# Code to display two images\n",
        "ToPIL = T.ToPILImage() # Converting function\n",
        "img0 = ToPIL(single_point[0][0]) # ToPIL will transform the Tensor object back to PIL image\n",
        "img1 = ToPIL(single_point[0][1])\n",
        "# Plotting\n",
        "fig, axs = plt.subplots(1,2)\n",
        "axs[0].imshow(img0)\n",
        "axs[1].imshow(img1)\n",
        "\n"
      ]
    },
    {
      "cell_type": "markdown",
      "metadata": {
        "id": "4JO5cIOdaUVC"
      },
      "source": [
        "A few important measurements which we should note here is that the images have a height and width of 32 and have 3 channels (RGB). This will inform our number of inputs into the neural network we build.\n",
        "\n",
        "Now let's make a model for this task. We will start with a very basic fully connected model with a three hidden layers. At the end of our network, we'll do a sigmoid function to bound all outputs between \\[0,1\\] which is what we want for a single label classification task such as the one presented by the CIFAR10 dataset."
      ]
    },
    {
      "cell_type": "markdown",
      "metadata": {
        "id": "Y5GAsjdpchND"
      },
      "source": [
        "# Linear Models"
      ]
    },
    {
      "cell_type": "markdown",
      "metadata": {
        "id": "RHGZbuzMrX-x"
      },
      "source": [
        "First, let's define some functions that we'll use throughout this exercise."
      ]
    },
    {
      "cell_type": "markdown",
      "metadata": {
        "id": "ycEBA7YxdlcF"
      },
      "source": [
        "## Defining Training and Testing Functions"
      ]
    },
    {
      "cell_type": "markdown",
      "metadata": {
        "id": "9o094GEnrdo3"
      },
      "source": [
        "This first function is a general train function which takes in a model and related parameters. Also note that there is a lr_sched option that I added for later experiments with learning rate scheduling which requires different training procedures."
      ]
    },
    {
      "cell_type": "code",
      "execution_count": 5,
      "metadata": {
        "id": "mUnfHDNbnumz"
      },
      "outputs": [],
      "source": [
        "from torch import optim # For optimizing function from torch\n",
        "from tqdm import tqdm   # For progress bar\n",
        "\n",
        "# Prefer to use GPU to process, if not use CPU\n",
        "device = torch.device(\"cuda\" if torch.cuda.is_available() else \"cpu\")\n",
        "\n",
        "def train(model, learning_rate, n_epochs, loss_function, optimizer, train_data, lr_sched=False, scheduler=None):\n",
        "\n",
        "  model.train()\n",
        "  loss_history = []\n",
        "  loss = torch.Tensor([0])\n",
        "  for epoch in tqdm(range(n_epochs), desc=f\"Epoch\", unit=\"epoch\", disable=False):\n",
        "    for (data, label) in train_data:\n",
        "        model.zero_grad()\n",
        "\n",
        "        # We need to make sure the tensors are on the same device as our model\n",
        "        data = data.to(device)\n",
        "        label = label.to(device)\n",
        "        out = model(data)\n",
        "\n",
        "        loss = loss_function(out, label)\n",
        "\n",
        "        loss.backward()\n",
        "        optimizer.step()\n",
        "        loss_history.append(loss.item())\n",
        "    print(f\"Epoch {epoch}: loss: {loss.item()}\")\n",
        "    if (lr_sched):\n",
        "      scheduler.step()\n",
        "\n",
        "  return loss_history"
      ]
    },
    {
      "cell_type": "markdown",
      "metadata": {
        "id": "lhDH8vmfr7VI"
      },
      "source": [
        "This next function graphs the loss history against the number of iterations completed on an xy-plane."
      ]
    },
    {
      "cell_type": "code",
      "execution_count": 6,
      "metadata": {
        "id": "KM5JHsGIc-dg"
      },
      "outputs": [],
      "source": [
        "def show_loss_history(lh):\n",
        "  plt.plot(lh)\n",
        "  plt.title(\"Neural Network Loss\")\n",
        "  plt.xlabel(\"Number of iterations\")\n",
        "  plt.ylabel(\"Loss\")\n",
        "  plt.show()\n"
      ]
    },
    {
      "cell_type": "markdown",
      "metadata": {
        "id": "rK5lKpGLsEtI"
      },
      "source": [
        "Below we have a function that tests the accuracy of a model on test data set for evaluation of the neural networks constructed below. Notice that the default value is set to the test dataset for CIFAR10."
      ]
    },
    {
      "cell_type": "code",
      "execution_count": 7,
      "metadata": {
        "colab": {
          "base_uri": "https://localhost:8080/"
        },
        "id": "Wx3EaoQgdmNn",
        "outputId": "88a46b92-e32b-4d76-b42b-16798da736fa"
      },
      "outputs": [
        {
          "output_type": "stream",
          "name": "stdout",
          "text": [
            "Files already downloaded and verified\n"
          ]
        }
      ],
      "source": [
        "ref_dataset = datasets.CIFAR10(root='./', train=False, download=True, transform=T.ToTensor())\n",
        "test_data = DataLoader(ref_dataset, batch_size=32)\n",
        "\n",
        "def test_accuracy(model, test_data=test_data):\n",
        "  model.eval()\n",
        "  accuracy = 0\n",
        "  for (data, label) in test_data:\n",
        "    data = data.to(device)\n",
        "    label = label.to(device)\n",
        "    out = model(data)\n",
        "    answers = out.max(dim=1)[1]\n",
        "    accuracy += (answers == label).sum()\n",
        "  print(f\"Total accuracy = {accuracy / len(ref_dataset)*100:.2f}%\")\n"
      ]
    },
    {
      "cell_type": "markdown",
      "metadata": {
        "id": "FB85FrTbc7Kd"
      },
      "source": [
        "## Basic Fully Connected Network"
      ]
    },
    {
      "cell_type": "markdown",
      "metadata": {
        "id": "gWLBLUqvsSCm"
      },
      "source": [
        "Now let's make a model for this task. We will start with a very basic fully connected model with a three hidden layers. The activation function for the neurons in these layers is a rectified linear function--generally considered standard in ML. At the end of our network, we'll do a sigmoid function to bound all outputs between \\[0,1\\] which is what we want for a classification task such as the one presented by the CIFAR10 dataset."
      ]
    },
    {
      "cell_type": "code",
      "execution_count": 8,
      "metadata": {
        "id": "vsB8gp_kbdKc"
      },
      "outputs": [],
      "source": [
        "from torch import nn # importing neural network object\n",
        "\n",
        "# Defining a basic neural net class that inherits from torch's built in nn class\n",
        "class BasicNN(nn.Module):\n",
        "\n",
        "  def __init__(self, n_inputs=3*32*32, n_hidden=2048, n_out=10):\n",
        "    super().__init__()\n",
        "    self.net = nn.Sequential(\n",
        "        nn.Linear(n_inputs, n_hidden),\n",
        "        nn.ReLU(),\n",
        "        nn.Linear(n_hidden, n_hidden),\n",
        "        nn.ReLU(),\n",
        "        nn.Linear(n_hidden, n_hidden),\n",
        "        nn.ReLU(),\n",
        "        nn.Linear(n_hidden, n_out),\n",
        "        nn.Sigmoid()\n",
        "    )\n",
        "\n",
        "  def forward(self, x):\n",
        "    # Batch, channel, height, width\n",
        "    b, c, h, w = x.shape\n",
        "    # Flatten the image\n",
        "    x = x.view(b,-1)\n",
        "    # Put flattened image through the network\n",
        "    x = self.net(x)\n",
        "    return x\n"
      ]
    },
    {
      "cell_type": "markdown",
      "metadata": {
        "id": "H5nyzQq6qwmu"
      },
      "source": [
        "Now let's train our network. I chose a learning rate of 0.5, 10 as our number of epochs, stochastic gradient descent as our optimization algorithm, and cross entropy loss as our loss function. These choices were arbitrary, but below we'll experiment with changing them around."
      ]
    },
    {
      "cell_type": "code",
      "execution_count": 9,
      "metadata": {
        "colab": {
          "base_uri": "https://localhost:8080/"
        },
        "id": "mkHgflZ_q0nh",
        "outputId": "a0515a7c-e4ba-4841-d5c2-c7fa1f7b3d7d"
      },
      "outputs": [
        {
          "output_type": "stream",
          "name": "stderr",
          "text": [
            "Epoch:  10%|█         | 1/10 [01:13<10:57, 73.01s/epoch]"
          ]
        },
        {
          "output_type": "stream",
          "name": "stdout",
          "text": [
            "Epoch 0: loss: 2.243288040161133\n"
          ]
        },
        {
          "output_type": "stream",
          "name": "stderr",
          "text": [
            "\rEpoch:  20%|██        | 2/10 [02:27<09:50, 73.87s/epoch]"
          ]
        },
        {
          "output_type": "stream",
          "name": "stdout",
          "text": [
            "Epoch 1: loss: 2.1717841625213623\n"
          ]
        },
        {
          "output_type": "stream",
          "name": "stderr",
          "text": [
            "\rEpoch:  30%|███       | 3/10 [03:40<08:35, 73.64s/epoch]"
          ]
        },
        {
          "output_type": "stream",
          "name": "stdout",
          "text": [
            "Epoch 2: loss: 2.1333677768707275\n"
          ]
        },
        {
          "output_type": "stream",
          "name": "stderr",
          "text": [
            "\rEpoch:  40%|████      | 4/10 [04:52<07:17, 72.98s/epoch]"
          ]
        },
        {
          "output_type": "stream",
          "name": "stdout",
          "text": [
            "Epoch 3: loss: 2.0881688594818115\n"
          ]
        },
        {
          "output_type": "stream",
          "name": "stderr",
          "text": [
            "\rEpoch:  50%|█████     | 5/10 [06:05<06:04, 72.90s/epoch]"
          ]
        },
        {
          "output_type": "stream",
          "name": "stdout",
          "text": [
            "Epoch 4: loss: 2.0710017681121826\n"
          ]
        },
        {
          "output_type": "stream",
          "name": "stderr",
          "text": [
            "\rEpoch:  60%|██████    | 6/10 [07:18<04:51, 72.93s/epoch]"
          ]
        },
        {
          "output_type": "stream",
          "name": "stdout",
          "text": [
            "Epoch 5: loss: 2.0627543926239014\n"
          ]
        },
        {
          "output_type": "stream",
          "name": "stderr",
          "text": [
            "\rEpoch:  70%|███████   | 7/10 [08:30<03:37, 72.56s/epoch]"
          ]
        },
        {
          "output_type": "stream",
          "name": "stdout",
          "text": [
            "Epoch 6: loss: 2.0508131980895996\n"
          ]
        },
        {
          "output_type": "stream",
          "name": "stderr",
          "text": [
            "\rEpoch:  80%|████████  | 8/10 [09:43<02:25, 72.69s/epoch]"
          ]
        },
        {
          "output_type": "stream",
          "name": "stdout",
          "text": [
            "Epoch 7: loss: 2.0472424030303955\n"
          ]
        },
        {
          "output_type": "stream",
          "name": "stderr",
          "text": [
            "\rEpoch:  90%|█████████ | 9/10 [10:55<01:12, 72.52s/epoch]"
          ]
        },
        {
          "output_type": "stream",
          "name": "stdout",
          "text": [
            "Epoch 8: loss: 2.0261943340301514\n"
          ]
        },
        {
          "output_type": "stream",
          "name": "stderr",
          "text": [
            "Epoch: 100%|██████████| 10/10 [12:07<00:00, 72.77s/epoch]"
          ]
        },
        {
          "output_type": "stream",
          "name": "stdout",
          "text": [
            "Epoch 9: loss: 2.033109188079834\n"
          ]
        },
        {
          "output_type": "stream",
          "name": "stderr",
          "text": [
            "\n"
          ]
        }
      ],
      "source": [
        "lr_1 = 0.5\n",
        "model_1 = BasicNN(n_inputs=3*32*32, n_out=10, n_hidden=2048).to(device)\n",
        "opt_1 = optim.SGD(model_1.parameters(), lr=lr_1)\n",
        "lf_1 = nn.CrossEntropyLoss()\n",
        "\n",
        "loss_history = train(model=model_1, learning_rate=lr_1, n_epochs=10, loss_function=lf_1, optimizer=opt_1, train_data=train_data)"
      ]
    },
    {
      "cell_type": "markdown",
      "metadata": {
        "id": "CtJEC13ac5Pg"
      },
      "source": [
        "We can look at the training process visually by grahing the loss over the iterations that occured over each epoch."
      ]
    },
    {
      "cell_type": "code",
      "execution_count": 10,
      "metadata": {
        "colab": {
          "base_uri": "https://localhost:8080/",
          "height": 472
        },
        "id": "N4pNKds25Vkt",
        "outputId": "8d35973c-48cf-4493-c4de-e89b41d72dae"
      },
      "outputs": [
        {
          "output_type": "display_data",
          "data": {
            "text/plain": [
              "<Figure size 640x480 with 1 Axes>"
            ],
            "image/png": "[encoded data removed]"
          },
          "metadata": {}
        }
      ],
      "source": [
        "show_loss_history(loss_history)"
      ]
    },
    {
      "cell_type": "markdown",
      "metadata": {
        "id": "oM09oitWU3y5"
      },
      "source": [
        "Now let's look at the accuracy our model acheieves on the validation set which we set aside from the training data at the beginning. Dividing training and testing data is a very important practice in all predictive statistics because it helps to prevent problems like overfitting and helps us to do hyperparameter tweaking."
      ]
    },
    {
      "cell_type": "code",
      "execution_count": null,
      "metadata": {
        "colab": {
          "base_uri": "https://localhost:8080/"
        },
        "id": "rjP1y3P05ayr",
        "outputId": "873dc3ab-c36f-4cb7-88f5-c9c3a029129a"
      },
      "outputs": [
        {
          "name": "stdout",
          "output_type": "stream",
          "text": [
            "Files already downloaded and verified\n",
            "Total accuracy = 32.86%\n"
          ]
        }
      ],
      "source": [
        "test_accuracy(model_1)"
      ]
    },
    {
      "cell_type": "markdown",
      "metadata": {
        "id": "Vkl2TwEitjSH"
      },
      "source": [
        "The accuracy above will be different every time due to the stochastic processes involved in this process, but I have generally been getting about 30-35% accuracy here. This is better than random selection which has a probability of 10% of being correct."
      ]
    },
    {
      "cell_type": "markdown",
      "metadata": {
        "id": "F8qbUpVPdHGI"
      },
      "source": [
        "## Trying Out Different Learning Rates"
      ]
    },
    {
      "cell_type": "markdown",
      "metadata": {
        "id": "6uzgMvD9O7q7"
      },
      "source": [
        "Let's try tuning some of our hyper parameters. Below I will try two different learning rates: one (lr_2) is 10x smaller than our learning rate of 0.5 which we tried above and the other (lr_3) is roughly 0.5x larger."
      ]
    },
    {
      "cell_type": "code",
      "execution_count": null,
      "metadata": {
        "colab": {
          "base_uri": "https://localhost:8080/",
          "height": 1000
        },
        "id": "f4L9o7OIPBx4",
        "outputId": "f4202239-6698-48b9-bd73-d95406dc6c33"
      },
      "outputs": [
        {
          "name": "stderr",
          "output_type": "stream",
          "text": [
            "Epoch:  10%|█         | 1/10 [00:31<04:39, 31.06s/epoch]"
          ]
        },
        {
          "name": "stdout",
          "output_type": "stream",
          "text": [
            "Epoch 0: loss: 2.301030397415161\n"
          ]
        },
        {
          "name": "stderr",
          "output_type": "stream",
          "text": [
            "\rEpoch:  20%|██        | 2/10 [01:02<04:11, 31.40s/epoch]"
          ]
        },
        {
          "name": "stdout",
          "output_type": "stream",
          "text": [
            "Epoch 1: loss: 2.2987918853759766\n"
          ]
        },
        {
          "name": "stderr",
          "output_type": "stream",
          "text": [
            "\rEpoch:  30%|███       | 3/10 [01:32<03:36, 30.88s/epoch]"
          ]
        },
        {
          "name": "stdout",
          "output_type": "stream",
          "text": [
            "Epoch 2: loss: 2.2959508895874023\n"
          ]
        },
        {
          "name": "stderr",
          "output_type": "stream",
          "text": [
            "\rEpoch:  40%|████      | 4/10 [02:03<03:03, 30.61s/epoch]"
          ]
        },
        {
          "name": "stdout",
          "output_type": "stream",
          "text": [
            "Epoch 3: loss: 2.2919771671295166\n"
          ]
        },
        {
          "name": "stderr",
          "output_type": "stream",
          "text": [
            "\rEpoch:  50%|█████     | 5/10 [02:33<02:31, 30.36s/epoch]"
          ]
        },
        {
          "name": "stdout",
          "output_type": "stream",
          "text": [
            "Epoch 4: loss: 2.2860782146453857\n"
          ]
        },
        {
          "name": "stderr",
          "output_type": "stream",
          "text": [
            "\rEpoch:  60%|██████    | 6/10 [03:05<02:04, 31.02s/epoch]"
          ]
        },
        {
          "name": "stdout",
          "output_type": "stream",
          "text": [
            "Epoch 5: loss: 2.277132034301758\n"
          ]
        },
        {
          "name": "stderr",
          "output_type": "stream",
          "text": [
            "\rEpoch:  70%|███████   | 7/10 [03:35<01:31, 30.59s/epoch]"
          ]
        },
        {
          "name": "stdout",
          "output_type": "stream",
          "text": [
            "Epoch 6: loss: 2.263378143310547\n"
          ]
        },
        {
          "name": "stderr",
          "output_type": "stream",
          "text": [
            "\rEpoch:  80%|████████  | 8/10 [04:04<01:00, 30.36s/epoch]"
          ]
        },
        {
          "name": "stdout",
          "output_type": "stream",
          "text": [
            "Epoch 7: loss: 2.243103504180908\n"
          ]
        },
        {
          "name": "stderr",
          "output_type": "stream",
          "text": [
            "\rEpoch:  90%|█████████ | 9/10 [04:35<00:30, 30.56s/epoch]"
          ]
        },
        {
          "name": "stdout",
          "output_type": "stream",
          "text": [
            "Epoch 8: loss: 2.2178070545196533\n"
          ]
        },
        {
          "name": "stderr",
          "output_type": "stream",
          "text": [
            "Epoch: 100%|██████████| 10/10 [05:06<00:00, 30.69s/epoch]"
          ]
        },
        {
          "name": "stdout",
          "output_type": "stream",
          "text": [
            "Epoch 9: loss: 2.1946427822113037\n"
          ]
        },
        {
          "name": "stderr",
          "output_type": "stream",
          "text": [
            "\n"
          ]
        },
        {
          "data": {
            "image/png": "[encoded data removed]",
            "text/plain": [
              "<Figure size 432x288 with 1 Axes>"
            ]
          },
          "metadata": {},
          "output_type": "display_data"
        },
        {
          "name": "stdout",
          "output_type": "stream",
          "text": [
            "Files already downloaded and verified\n",
            "Total accuracy = 19.17%\n"
          ]
        },
        {
          "name": "stderr",
          "output_type": "stream",
          "text": [
            "Epoch:  10%|█         | 1/10 [00:30<04:31, 30.17s/epoch]"
          ]
        },
        {
          "name": "stdout",
          "output_type": "stream",
          "text": [
            "Epoch 0: loss: 2.225503921508789\n"
          ]
        },
        {
          "name": "stderr",
          "output_type": "stream",
          "text": [
            "\rEpoch:  20%|██        | 2/10 [01:00<04:00, 30.10s/epoch]"
          ]
        },
        {
          "name": "stdout",
          "output_type": "stream",
          "text": [
            "Epoch 1: loss: 2.1653122901916504\n"
          ]
        },
        {
          "name": "stderr",
          "output_type": "stream",
          "text": [
            "\rEpoch:  30%|███       | 3/10 [01:31<03:33, 30.50s/epoch]"
          ]
        },
        {
          "name": "stdout",
          "output_type": "stream",
          "text": [
            "Epoch 2: loss: 2.1338841915130615\n"
          ]
        },
        {
          "name": "stderr",
          "output_type": "stream",
          "text": [
            "\rEpoch:  40%|████      | 4/10 [02:00<03:01, 30.18s/epoch]"
          ]
        },
        {
          "name": "stdout",
          "output_type": "stream",
          "text": [
            "Epoch 3: loss: 2.0808749198913574\n"
          ]
        },
        {
          "name": "stderr",
          "output_type": "stream",
          "text": [
            "\rEpoch:  50%|█████     | 5/10 [02:31<02:31, 30.23s/epoch]"
          ]
        },
        {
          "name": "stdout",
          "output_type": "stream",
          "text": [
            "Epoch 4: loss: 2.065032958984375\n"
          ]
        },
        {
          "name": "stderr",
          "output_type": "stream",
          "text": [
            "\rEpoch:  60%|██████    | 6/10 [03:01<02:01, 30.35s/epoch]"
          ]
        },
        {
          "name": "stdout",
          "output_type": "stream",
          "text": [
            "Epoch 5: loss: 2.0567119121551514\n"
          ]
        },
        {
          "name": "stderr",
          "output_type": "stream",
          "text": [
            "\rEpoch:  70%|███████   | 7/10 [03:32<01:31, 30.50s/epoch]"
          ]
        },
        {
          "name": "stdout",
          "output_type": "stream",
          "text": [
            "Epoch 6: loss: 2.055180788040161\n"
          ]
        },
        {
          "name": "stderr",
          "output_type": "stream",
          "text": [
            "\rEpoch:  80%|████████  | 8/10 [04:03<01:01, 30.68s/epoch]"
          ]
        },
        {
          "name": "stdout",
          "output_type": "stream",
          "text": [
            "Epoch 7: loss: 2.0498783588409424\n"
          ]
        },
        {
          "name": "stderr",
          "output_type": "stream",
          "text": [
            "\rEpoch:  90%|█████████ | 9/10 [04:33<00:30, 30.36s/epoch]"
          ]
        },
        {
          "name": "stdout",
          "output_type": "stream",
          "text": [
            "Epoch 8: loss: 2.0326602458953857\n"
          ]
        },
        {
          "name": "stderr",
          "output_type": "stream",
          "text": [
            "Epoch: 100%|██████████| 10/10 [05:03<00:00, 30.34s/epoch]"
          ]
        },
        {
          "name": "stdout",
          "output_type": "stream",
          "text": [
            "Epoch 9: loss: 2.0557360649108887\n"
          ]
        },
        {
          "name": "stderr",
          "output_type": "stream",
          "text": [
            "\n"
          ]
        },
        {
          "data": {
            "image/png": "[encoded data removed]",
            "text/plain": [
              "<Figure size 432x288 with 1 Axes>"
            ]
          },
          "metadata": {},
          "output_type": "display_data"
        },
        {
          "name": "stdout",
          "output_type": "stream",
          "text": [
            "Files already downloaded and verified\n",
            "Total accuracy = 34.25%\n"
          ]
        }
      ],
      "source": [
        "lr_2 = 0.05\n",
        "lr_3 = 0.7\n",
        "\n",
        "# Training and testing model with learning rate of 0.05\n",
        "model_2 = BasicNN(n_inputs=3*32*32, n_out=10, n_hidden=2048).to(device)\n",
        "opt_2 = optim.SGD(model_2.parameters(), lr=lr_2)\n",
        "lf_2 = nn.CrossEntropyLoss()\n",
        "loss_history2 = train(model=model_2, learning_rate=lr_2, n_epochs=10, loss_function=lf_2, optimizer=opt_2, train_data=train_data)\n",
        "show_loss_history(loss_history2)\n",
        "test_accuracy(model_2)\n",
        "\n",
        "# Training and testing model with learning rate of 0.7\n",
        "model_3 = BasicNN(n_inputs=3*32*32, n_out=10, n_hidden=2048).to(device)\n",
        "opt_3 = optim.SGD(model_3.parameters(), lr=lr_3)\n",
        "lf_3 = nn.CrossEntropyLoss()\n",
        "loss_history3 = train(model=model_3, learning_rate=lr_3, n_epochs=10, loss_function=lf_3, optimizer=opt_3, train_data=train_data)\n",
        "show_loss_history(loss_history3)\n",
        "test_accuracy(model_3)\n"
      ]
    },
    {
      "cell_type": "markdown",
      "metadata": {
        "id": "hEQo-OHdZ-EI"
      },
      "source": [
        "Our results indicate that the slightly higher learning rate of 0.7 works better for training this particular model while the lower rate of 0.05 performs worse (although there of course is a stochastic component of these results so we cannot guarantee that this will always be the case). The loss functions of these two models' training tells us that the learning rate of 0.05 looks to have been too low for the model to converge within 10 epochs. The learning rate of 0.05 may have actually been more effective than our baseline of 0.5 if we had more computational power or time, but unfortunately I do not have the resources to look into that further."
      ]
    },
    {
      "cell_type": "markdown",
      "metadata": {
        "id": "U4CHl94WdMga"
      },
      "source": [
        "## Wider Hidden Layers"
      ]
    },
    {
      "cell_type": "markdown",
      "metadata": {
        "id": "zPueNRBMPC37"
      },
      "source": [
        "Now let's try making our network wider--i.e. have more neurons in each of its hidden layers"
      ]
    },
    {
      "cell_type": "code",
      "execution_count": null,
      "metadata": {
        "colab": {
          "base_uri": "https://localhost:8080/",
          "height": 521
        },
        "id": "EnBA3ZJnPM2U",
        "outputId": "e730d060-6cfb-4421-8828-bf3bac767834"
      },
      "outputs": [
        {
          "name": "stderr",
          "output_type": "stream",
          "text": [
            "Epoch:  10%|█         | 1/10 [04:14<38:07, 254.13s/epoch]"
          ]
        },
        {
          "name": "stdout",
          "output_type": "stream",
          "text": [
            "Epoch 0: loss: 2.2165026664733887\n"
          ]
        },
        {
          "name": "stderr",
          "output_type": "stream",
          "text": [
            "\rEpoch:  20%|██        | 2/10 [08:05<32:04, 240.62s/epoch]"
          ]
        },
        {
          "name": "stdout",
          "output_type": "stream",
          "text": [
            "Epoch 1: loss: 2.1599619388580322\n"
          ]
        },
        {
          "name": "stderr",
          "output_type": "stream",
          "text": [
            "\rEpoch:  30%|███       | 3/10 [11:57<27:38, 236.91s/epoch]"
          ]
        },
        {
          "name": "stdout",
          "output_type": "stream",
          "text": [
            "Epoch 2: loss: 2.099459648132324\n"
          ]
        },
        {
          "name": "stderr",
          "output_type": "stream",
          "text": [
            "\rEpoch:  40%|████      | 4/10 [15:43<23:14, 232.36s/epoch]"
          ]
        },
        {
          "name": "stdout",
          "output_type": "stream",
          "text": [
            "Epoch 3: loss: 2.080265760421753\n"
          ]
        },
        {
          "name": "stderr",
          "output_type": "stream",
          "text": [
            "\rEpoch:  50%|█████     | 5/10 [19:29<19:10, 230.00s/epoch]"
          ]
        },
        {
          "name": "stdout",
          "output_type": "stream",
          "text": [
            "Epoch 4: loss: 2.0607824325561523\n"
          ]
        },
        {
          "name": "stderr",
          "output_type": "stream",
          "text": [
            "\rEpoch:  60%|██████    | 6/10 [23:16<15:16, 229.07s/epoch]"
          ]
        },
        {
          "name": "stdout",
          "output_type": "stream",
          "text": [
            "Epoch 5: loss: 2.062997817993164\n"
          ]
        },
        {
          "name": "stderr",
          "output_type": "stream",
          "text": [
            "\rEpoch:  70%|███████   | 7/10 [27:11<11:33, 231.16s/epoch]"
          ]
        },
        {
          "name": "stdout",
          "output_type": "stream",
          "text": [
            "Epoch 6: loss: 2.051624298095703\n"
          ]
        },
        {
          "name": "stderr",
          "output_type": "stream",
          "text": [
            "\rEpoch:  80%|████████  | 8/10 [30:58<07:39, 229.67s/epoch]"
          ]
        },
        {
          "name": "stdout",
          "output_type": "stream",
          "text": [
            "Epoch 7: loss: 2.0330708026885986\n"
          ]
        },
        {
          "name": "stderr",
          "output_type": "stream",
          "text": [
            "\rEpoch:  90%|█████████ | 9/10 [35:05<03:55, 235.17s/epoch]"
          ]
        },
        {
          "name": "stdout",
          "output_type": "stream",
          "text": [
            "Epoch 8: loss: 2.024603843688965\n"
          ]
        },
        {
          "name": "stderr",
          "output_type": "stream",
          "text": [
            "Epoch: 100%|██████████| 10/10 [38:53<00:00, 233.32s/epoch]"
          ]
        },
        {
          "name": "stdout",
          "output_type": "stream",
          "text": [
            "Epoch 9: loss: 2.0122134685516357\n"
          ]
        },
        {
          "name": "stderr",
          "output_type": "stream",
          "text": [
            "\n"
          ]
        },
        {
          "data": {
            "image/png": "[encoded data removed]",
            "text/plain": [
              "<Figure size 432x288 with 1 Axes>"
            ]
          },
          "metadata": {},
          "output_type": "display_data"
        },
        {
          "name": "stdout",
          "output_type": "stream",
          "text": [
            "Files already downloaded and verified\n",
            "Total accuracy = 33.59%\n"
          ]
        }
      ],
      "source": [
        "# Training and testing model with learning rate of 0.05\n",
        "model_4 = BasicNN(n_inputs=3*32*32, n_out=10, n_hidden=4096).to(device)\n",
        "opt_4 = optim.SGD(model_4.parameters(), lr=lr_1)\n",
        "lf_4 = nn.CrossEntropyLoss()\n",
        "loss_history4 = train(model=model_4, learning_rate=lr_1, n_epochs=10, loss_function=lf_4, optimizer=opt_4, train_data=train_data)\n",
        "show_loss_history(loss_history4)\n",
        "test_accuracy(model_4)"
      ]
    },
    {
      "cell_type": "markdown",
      "metadata": {
        "id": "yDSJILmKj9i_"
      },
      "source": [
        "This architecture gave us only marginally better results than when we had only 1024 neurons in each layer, but increased the training time significantly. This tells us that the thinner model is preferred because it has a similar level of accuracy with less parameters and a shorter training period."
      ]
    },
    {
      "cell_type": "markdown",
      "metadata": {
        "id": "DMUKkIqIdRRH"
      },
      "source": [
        "## Deeper Networks"
      ]
    },
    {
      "cell_type": "markdown",
      "metadata": {
        "id": "ayIKOvz8VIOA"
      },
      "source": [
        "This time, let's go deeper and have more hidden layers in our network. In the newly defined architecture below you can see I haven't changed many of the other design choices, I simply have more layers."
      ]
    },
    {
      "cell_type": "code",
      "execution_count": null,
      "metadata": {
        "id": "jd8ZTInEWidh"
      },
      "outputs": [],
      "source": [
        "class DeepNN(nn.Module):\n",
        "\n",
        "  def __init__(self, n_inputs=3*32*32, n_hidden=2048, n_out=10):\n",
        "    super().__init__()\n",
        "    self.net = nn.Sequential(\n",
        "        nn.Linear(n_inputs, n_hidden),\n",
        "        nn.ReLU(),\n",
        "        nn.Linear(n_hidden, n_hidden),\n",
        "        nn.ReLU(),\n",
        "        nn.Linear(n_hidden, n_hidden),\n",
        "        nn.ReLU(),\n",
        "        nn.Linear(n_hidden, n_hidden),\n",
        "        nn.ReLU(),\n",
        "        nn.Linear(n_hidden, n_hidden),\n",
        "        nn.ReLU(),\n",
        "        nn.Linear(n_hidden, n_hidden),\n",
        "        nn.ReLU(),\n",
        "        nn.Linear(n_hidden, n_out),\n",
        "        nn.Sigmoid()\n",
        "    )\n",
        "\n",
        "  def forward(self, x):\n",
        "    # Batch, channel, height, width\n",
        "    b, c, h, w = x.shape\n",
        "    # Flatten the image\n",
        "    x = x.view(b,-1)\n",
        "    # Put flattened image through the network\n",
        "    x = self.net(x)\n",
        "    return x"
      ]
    },
    {
      "cell_type": "markdown",
      "metadata": {
        "id": "x4PkyKUOvIWB"
      },
      "source": [
        "We can train this network by again using our generalized train function."
      ]
    },
    {
      "cell_type": "code",
      "execution_count": null,
      "metadata": {
        "colab": {
          "base_uri": "https://localhost:8080/",
          "height": 521
        },
        "id": "Q-3YGQRXYG70",
        "outputId": "9c2e5b23-4d8c-4cf8-9ae2-31ce1fd56ef3"
      },
      "outputs": [
        {
          "name": "stderr",
          "output_type": "stream",
          "text": [
            "Epoch:  10%|█         | 1/10 [02:19<20:54, 139.44s/epoch]"
          ]
        },
        {
          "name": "stdout",
          "output_type": "stream",
          "text": [
            "Epoch 0: loss: 2.3022830486297607\n"
          ]
        },
        {
          "name": "stderr",
          "output_type": "stream",
          "text": [
            "\rEpoch:  20%|██        | 2/10 [04:36<18:23, 137.91s/epoch]"
          ]
        },
        {
          "name": "stdout",
          "output_type": "stream",
          "text": [
            "Epoch 1: loss: 2.301741361618042\n"
          ]
        },
        {
          "name": "stderr",
          "output_type": "stream",
          "text": [
            "\rEpoch:  30%|███       | 3/10 [06:52<15:59, 137.09s/epoch]"
          ]
        },
        {
          "name": "stdout",
          "output_type": "stream",
          "text": [
            "Epoch 2: loss: 2.3000080585479736\n"
          ]
        },
        {
          "name": "stderr",
          "output_type": "stream",
          "text": [
            "\rEpoch:  40%|████      | 4/10 [09:12<13:49, 138.30s/epoch]"
          ]
        },
        {
          "name": "stdout",
          "output_type": "stream",
          "text": [
            "Epoch 3: loss: 2.2811150550842285\n"
          ]
        },
        {
          "name": "stderr",
          "output_type": "stream",
          "text": [
            "\rEpoch:  50%|█████     | 5/10 [11:30<11:31, 138.33s/epoch]"
          ]
        },
        {
          "name": "stdout",
          "output_type": "stream",
          "text": [
            "Epoch 4: loss: 2.199584484100342\n"
          ]
        },
        {
          "name": "stderr",
          "output_type": "stream",
          "text": [
            "\rEpoch:  60%|██████    | 6/10 [13:49<09:13, 138.26s/epoch]"
          ]
        },
        {
          "name": "stdout",
          "output_type": "stream",
          "text": [
            "Epoch 5: loss: 2.168750762939453\n"
          ]
        },
        {
          "name": "stderr",
          "output_type": "stream",
          "text": [
            "\rEpoch:  70%|███████   | 7/10 [16:08<06:56, 138.78s/epoch]"
          ]
        },
        {
          "name": "stdout",
          "output_type": "stream",
          "text": [
            "Epoch 6: loss: 2.1486988067626953\n"
          ]
        },
        {
          "name": "stderr",
          "output_type": "stream",
          "text": [
            "\rEpoch:  80%|████████  | 8/10 [18:28<04:38, 139.15s/epoch]"
          ]
        },
        {
          "name": "stdout",
          "output_type": "stream",
          "text": [
            "Epoch 7: loss: 2.1433074474334717\n"
          ]
        },
        {
          "name": "stderr",
          "output_type": "stream",
          "text": [
            "\rEpoch:  90%|█████████ | 9/10 [20:46<02:18, 138.61s/epoch]"
          ]
        },
        {
          "name": "stdout",
          "output_type": "stream",
          "text": [
            "Epoch 8: loss: 2.1441967487335205\n"
          ]
        },
        {
          "name": "stderr",
          "output_type": "stream",
          "text": [
            "Epoch: 100%|██████████| 10/10 [23:16<00:00, 139.60s/epoch]"
          ]
        },
        {
          "name": "stdout",
          "output_type": "stream",
          "text": [
            "Epoch 9: loss: 2.1387438774108887\n"
          ]
        },
        {
          "name": "stderr",
          "output_type": "stream",
          "text": [
            "\n"
          ]
        },
        {
          "data": {
            "image/png": "[encoded data removed]",
            "text/plain": [
              "<Figure size 432x288 with 1 Axes>"
            ]
          },
          "metadata": {},
          "output_type": "display_data"
        },
        {
          "name": "stdout",
          "output_type": "stream",
          "text": [
            "Files already downloaded and verified\n",
            "Total accuracy = 15.07%\n"
          ]
        }
      ],
      "source": [
        "lr_5 = 0.5\n",
        "model_5 = DeepNN(n_inputs=3*32*32, n_out=10, n_hidden=2048).to(device)\n",
        "opt_5 = optim.SGD(model_5.parameters(), lr=lr_5)\n",
        "lf_5 = nn.CrossEntropyLoss()\n",
        "\n",
        "loss_history5 = train(model=model_5, learning_rate=lr_5, n_epochs=10, loss_function=lf_5, optimizer=opt_5, train_data=train_data)\n",
        "show_loss_history(loss_history5)\n",
        "test_accuracy(model_5)"
      ]
    },
    {
      "cell_type": "markdown",
      "metadata": {
        "id": "JgtyTa2_4NxZ"
      },
      "source": [
        "I was expecting to see better results due to the idea that we can trade width for depth--especially for image classification tasks. However, I am getting a much lower accuracy when compared to just our vanilla linear neural network. My guess is that this has something to do with the parameters being harder to update with many more layers--perhaps we would see better results if we had more epochs."
      ]
    },
    {
      "cell_type": "markdown",
      "metadata": {
        "id": "8QqmUoJtdV8f"
      },
      "source": [
        "## Messing Around With SoftMax"
      ]
    },
    {
      "cell_type": "markdown",
      "metadata": {
        "id": "loFqd1OM4Y98"
      },
      "source": [
        "The neural network shown below was mostly for my own curiousity rather than structured experimentation. I changed the activation function at the end to a log softmax and changed the loss function to a negative log likelihood function (because cross entropy loss has a negative log likelihood already built into it). I also increased the number of epochs to 20 to see what kind of accuracy I could get and I ended up with the best result I've had yet from the purely linear neural network models."
      ]
    },
    {
      "cell_type": "code",
      "execution_count": null,
      "metadata": {
        "id": "zKGY3kkUzwSM"
      },
      "outputs": [],
      "source": [
        "class BasicNN_SM(nn.Module):\n",
        "\n",
        "  def __init__(self, n_inputs=3*32*32, n_hidden=2048, n_out=10):\n",
        "    super().__init__()\n",
        "    self.net = nn.Sequential(\n",
        "        nn.Linear(n_inputs, n_hidden),\n",
        "        nn.ReLU(),\n",
        "        nn.Linear(n_hidden, n_hidden),\n",
        "        nn.ReLU(),\n",
        "        nn.Linear(n_hidden, n_hidden),\n",
        "        nn.ReLU(),\n",
        "        nn.Linear(n_hidden, n_out),\n",
        "        nn.LogSoftmax(dim=1)\n",
        "    )\n",
        "\n",
        "  def forward(self, x):\n",
        "    # Batch, channel, height, width\n",
        "    b, c, h, w = x.shape\n",
        "    # Flatten the image\n",
        "    x = x.view(b,-1)\n",
        "    # Put flattened image through the network\n",
        "    x = self.net(x)\n",
        "    return x\n"
      ]
    },
    {
      "cell_type": "markdown",
      "metadata": {
        "id": "F40xhYTK4KUW"
      },
      "source": [
        "Again we can use our standard training function."
      ]
    },
    {
      "cell_type": "code",
      "execution_count": null,
      "metadata": {
        "colab": {
          "background_save": true,
          "base_uri": "https://localhost:8080/"
        },
        "id": "WltyGiiP0EF8",
        "outputId": "729a73ca-d2ae-4f09-e4d5-685aecfa6bce"
      },
      "outputs": [
        {
          "name": "stderr",
          "output_type": "stream",
          "text": [
            "Epoch:   5%|▌         | 1/20 [01:15<23:58, 75.72s/epoch]"
          ]
        },
        {
          "name": "stdout",
          "output_type": "stream",
          "text": [
            "Epoch 0: loss: 2.327049493789673\n"
          ]
        },
        {
          "name": "stderr",
          "output_type": "stream",
          "text": [
            "\rEpoch:  10%|█         | 2/20 [02:31<22:41, 75.61s/epoch]"
          ]
        },
        {
          "name": "stdout",
          "output_type": "stream",
          "text": [
            "Epoch 1: loss: 2.216153621673584\n"
          ]
        },
        {
          "name": "stderr",
          "output_type": "stream",
          "text": [
            "\rEpoch:  15%|█▌        | 3/20 [03:51<22:00, 77.65s/epoch]"
          ]
        },
        {
          "name": "stdout",
          "output_type": "stream",
          "text": [
            "Epoch 2: loss: 2.1782093048095703\n"
          ]
        },
        {
          "name": "stderr",
          "output_type": "stream",
          "text": [
            "\rEpoch:  20%|██        | 4/20 [05:07<20:31, 76.96s/epoch]"
          ]
        },
        {
          "name": "stdout",
          "output_type": "stream",
          "text": [
            "Epoch 3: loss: 2.224710464477539\n"
          ]
        },
        {
          "name": "stderr",
          "output_type": "stream",
          "text": [
            "\rEpoch:  25%|██▌       | 5/20 [06:21<19:00, 76.06s/epoch]"
          ]
        },
        {
          "name": "stdout",
          "output_type": "stream",
          "text": [
            "Epoch 4: loss: 2.1832103729248047\n"
          ]
        },
        {
          "name": "stderr",
          "output_type": "stream",
          "text": [
            "\rEpoch:  30%|███       | 6/20 [07:36<17:36, 75.49s/epoch]"
          ]
        },
        {
          "name": "stdout",
          "output_type": "stream",
          "text": [
            "Epoch 5: loss: 2.1046221256256104\n"
          ]
        },
        {
          "name": "stderr",
          "output_type": "stream",
          "text": [
            "\rEpoch:  35%|███▌      | 7/20 [08:49<16:14, 74.95s/epoch]"
          ]
        },
        {
          "name": "stdout",
          "output_type": "stream",
          "text": [
            "Epoch 6: loss: 2.0378754138946533\n"
          ]
        },
        {
          "name": "stderr",
          "output_type": "stream",
          "text": [
            "\rEpoch:  40%|████      | 8/20 [10:03<14:55, 74.60s/epoch]"
          ]
        },
        {
          "name": "stdout",
          "output_type": "stream",
          "text": [
            "Epoch 7: loss: 1.9678401947021484\n"
          ]
        },
        {
          "name": "stderr",
          "output_type": "stream",
          "text": [
            "\rEpoch:  45%|████▌     | 9/20 [11:16<13:33, 73.99s/epoch]"
          ]
        },
        {
          "name": "stdout",
          "output_type": "stream",
          "text": [
            "Epoch 8: loss: 2.0729732513427734\n"
          ]
        },
        {
          "name": "stderr",
          "output_type": "stream",
          "text": [
            "\rEpoch:  50%|█████     | 10/20 [12:26<12:09, 72.91s/epoch]"
          ]
        },
        {
          "name": "stdout",
          "output_type": "stream",
          "text": [
            "Epoch 9: loss: 1.9952272176742554\n"
          ]
        },
        {
          "name": "stderr",
          "output_type": "stream",
          "text": [
            "\rEpoch:  55%|█████▌    | 11/20 [13:37<10:51, 72.34s/epoch]"
          ]
        },
        {
          "name": "stdout",
          "output_type": "stream",
          "text": [
            "Epoch 10: loss: 1.9549990892410278\n"
          ]
        },
        {
          "name": "stderr",
          "output_type": "stream",
          "text": [
            "\rEpoch:  60%|██████    | 12/20 [14:50<09:38, 72.36s/epoch]"
          ]
        },
        {
          "name": "stdout",
          "output_type": "stream",
          "text": [
            "Epoch 11: loss: 1.9738973379135132\n"
          ]
        },
        {
          "name": "stderr",
          "output_type": "stream",
          "text": [
            "\rEpoch:  65%|██████▌   | 13/20 [16:02<08:25, 72.20s/epoch]"
          ]
        },
        {
          "name": "stdout",
          "output_type": "stream",
          "text": [
            "Epoch 12: loss: 1.8908686637878418\n"
          ]
        },
        {
          "name": "stderr",
          "output_type": "stream",
          "text": [
            "\rEpoch:  70%|███████   | 14/20 [17:14<07:12, 72.13s/epoch]"
          ]
        },
        {
          "name": "stdout",
          "output_type": "stream",
          "text": [
            "Epoch 13: loss: 1.8730524778366089\n"
          ]
        },
        {
          "name": "stderr",
          "output_type": "stream",
          "text": [
            "\rEpoch:  75%|███████▌  | 15/20 [18:26<06:01, 72.31s/epoch]"
          ]
        },
        {
          "name": "stdout",
          "output_type": "stream",
          "text": [
            "Epoch 14: loss: 2.102578639984131\n"
          ]
        },
        {
          "name": "stderr",
          "output_type": "stream",
          "text": [
            "\rEpoch:  80%|████████  | 16/20 [19:39<04:49, 72.49s/epoch]"
          ]
        },
        {
          "name": "stdout",
          "output_type": "stream",
          "text": [
            "Epoch 15: loss: 1.9422866106033325\n"
          ]
        },
        {
          "name": "stderr",
          "output_type": "stream",
          "text": [
            "\rEpoch:  85%|████████▌ | 17/20 [20:52<03:37, 72.43s/epoch]"
          ]
        },
        {
          "name": "stdout",
          "output_type": "stream",
          "text": [
            "Epoch 16: loss: 1.8300323486328125\n"
          ]
        },
        {
          "name": "stderr",
          "output_type": "stream",
          "text": [
            "\rEpoch:  90%|█████████ | 18/20 [22:06<02:25, 72.87s/epoch]"
          ]
        },
        {
          "name": "stdout",
          "output_type": "stream",
          "text": [
            "Epoch 17: loss: 1.8928897380828857\n"
          ]
        },
        {
          "name": "stderr",
          "output_type": "stream",
          "text": [
            "\rEpoch:  95%|█████████▌| 19/20 [23:18<01:12, 72.77s/epoch]"
          ]
        },
        {
          "name": "stdout",
          "output_type": "stream",
          "text": [
            "Epoch 18: loss: 1.821984052658081\n"
          ]
        },
        {
          "name": "stderr",
          "output_type": "stream",
          "text": [
            "Epoch: 100%|██████████| 20/20 [24:33<00:00, 73.65s/epoch]"
          ]
        },
        {
          "name": "stdout",
          "output_type": "stream",
          "text": [
            "Epoch 19: loss: 1.798168420791626\n"
          ]
        },
        {
          "name": "stderr",
          "output_type": "stream",
          "text": [
            "\n"
          ]
        },
        {
          "data": {
            "image/png": "[encoded data removed]",
            "text/plain": [
              "<Figure size 432x288 with 1 Axes>"
            ]
          },
          "metadata": {},
          "output_type": "display_data"
        },
        {
          "name": "stdout",
          "output_type": "stream",
          "text": [
            "Files already downloaded and verified\n",
            "Total accuracy = 35.27%\n"
          ]
        }
      ],
      "source": [
        "lr_6 = 0.5\n",
        "model_6 = BasicNN_SM(n_inputs=3*32*32, n_out=10, n_hidden=2048).to(device)\n",
        "opt_6 = optim.SGD(model_6.parameters(), lr=lr_6)\n",
        "lf_6 = nn.NLLLoss()\n",
        "\n",
        "loss_history6 = train(model=model_6, learning_rate=lr_6, n_epochs=20, loss_function=lf_6, optimizer=opt_6, train_data=train_data)\n",
        "show_loss_history(loss_history6)\n",
        "test_accuracy(model_6)"
      ]
    },
    {
      "cell_type": "markdown",
      "metadata": {
        "id": "9GE1FOtHvx39"
      },
      "source": [
        "With this network I got slightly better results than with my basic starting linear network. However, this training did have the benefit of twice as many epochs. It seems to me that difference in activation function in the last layer did not have a significant enough benefit to adjust completely."
      ]
    },
    {
      "cell_type": "markdown",
      "metadata": {
        "id": "vS7FofDhcYTK"
      },
      "source": [
        "# Convolutional Network Experiments"
      ]
    },
    {
      "cell_type": "markdown",
      "metadata": {
        "id": "4-kuC8UPkbL1"
      },
      "source": [
        "## Basic CNN"
      ]
    },
    {
      "cell_type": "markdown",
      "metadata": {
        "id": "UlCH4X2UCszk"
      },
      "source": [
        "Below I have defined a very simple convolutional neural network to try out on the CIFAR dataset. Note that the it is divided into two different components: a convolutional part with pooling and 2D convolution layers and a fully connected layer with RELUs and a sigmoid activation function at the end."
      ]
    },
    {
      "cell_type": "code",
      "execution_count": null,
      "metadata": {
        "id": "eglc0m_YpwqI"
      },
      "outputs": [],
      "source": [
        "from torch import nn\n",
        "\n",
        "class SimpleCNN(nn.Module):\n",
        "\n",
        "  def __init__(self):\n",
        "    super().__init__()\n",
        "    self.conv = nn.Sequential(\n",
        "        nn.Conv2d(3, 16, kernel_size=3, padding=1, stride=1),\n",
        "        nn.BatchNorm2d(16),\n",
        "        nn.Conv2d(16, 32, kernel_size=3, padding=1, stride=1),\n",
        "        nn.BatchNorm2d(32)\n",
        "    )\n",
        "    self.fc = nn.Sequential(\n",
        "        nn.Linear(32*32*32, 32),\n",
        "        nn.ReLU(),\n",
        "        nn.Linear(32, 10),\n",
        "        nn.Sigmoid()\n",
        "    )\n",
        "\n",
        "  def forward(self, x):\n",
        "    # Put image through convolutional portion\n",
        "    x = self.conv(x)\n",
        "    # Then flatten and put through fc portion\n",
        "    b, c, h, w = x.shape\n",
        "    x = x.view(b,-1)\n",
        "    #print(x)\n",
        "    x = self.fc(x)\n",
        "    return x"
      ]
    },
    {
      "cell_type": "markdown",
      "metadata": {
        "id": "MQ2pHwCzyPBt"
      },
      "source": [
        "Here we can train our CNN."
      ]
    },
    {
      "cell_type": "code",
      "execution_count": null,
      "metadata": {
        "colab": {
          "base_uri": "https://localhost:8080/",
          "height": 521
        },
        "id": "-mzH4UR-sBnY",
        "outputId": "8d850326-706a-47ea-dcec-8155f964cbbc"
      },
      "outputs": [
        {
          "name": "stderr",
          "output_type": "stream",
          "text": [
            "Epoch:  10%|█         | 1/10 [01:56<17:25, 116.21s/epoch]"
          ]
        },
        {
          "name": "stdout",
          "output_type": "stream",
          "text": [
            "Epoch 0: loss: 1.9766159057617188\n"
          ]
        },
        {
          "name": "stderr",
          "output_type": "stream",
          "text": [
            "\rEpoch:  20%|██        | 2/10 [03:46<14:59, 112.47s/epoch]"
          ]
        },
        {
          "name": "stdout",
          "output_type": "stream",
          "text": [
            "Epoch 1: loss: 1.9331048727035522\n"
          ]
        },
        {
          "name": "stderr",
          "output_type": "stream",
          "text": [
            "\rEpoch:  30%|███       | 3/10 [05:47<13:36, 116.64s/epoch]"
          ]
        },
        {
          "name": "stdout",
          "output_type": "stream",
          "text": [
            "Epoch 2: loss: 1.9208974838256836\n"
          ]
        },
        {
          "name": "stderr",
          "output_type": "stream",
          "text": [
            "\rEpoch:  40%|████      | 4/10 [07:45<11:41, 116.92s/epoch]"
          ]
        },
        {
          "name": "stdout",
          "output_type": "stream",
          "text": [
            "Epoch 3: loss: 1.900315761566162\n"
          ]
        },
        {
          "name": "stderr",
          "output_type": "stream",
          "text": [
            "\rEpoch:  50%|█████     | 5/10 [09:36<09:34, 114.96s/epoch]"
          ]
        },
        {
          "name": "stdout",
          "output_type": "stream",
          "text": [
            "Epoch 4: loss: 1.8886350393295288\n"
          ]
        },
        {
          "name": "stderr",
          "output_type": "stream",
          "text": [
            "\rEpoch:  60%|██████    | 6/10 [11:26<07:32, 113.20s/epoch]"
          ]
        },
        {
          "name": "stdout",
          "output_type": "stream",
          "text": [
            "Epoch 5: loss: 1.8822104930877686\n"
          ]
        },
        {
          "name": "stderr",
          "output_type": "stream",
          "text": [
            "\rEpoch:  70%|███████   | 7/10 [13:16<05:37, 112.35s/epoch]"
          ]
        },
        {
          "name": "stdout",
          "output_type": "stream",
          "text": [
            "Epoch 6: loss: 1.8632423877716064\n"
          ]
        },
        {
          "name": "stderr",
          "output_type": "stream",
          "text": [
            "\rEpoch:  80%|████████  | 8/10 [15:16<03:49, 114.77s/epoch]"
          ]
        },
        {
          "name": "stdout",
          "output_type": "stream",
          "text": [
            "Epoch 7: loss: 1.8547953367233276\n"
          ]
        },
        {
          "name": "stderr",
          "output_type": "stream",
          "text": [
            "\rEpoch:  90%|█████████ | 9/10 [17:08<01:53, 113.79s/epoch]"
          ]
        },
        {
          "name": "stdout",
          "output_type": "stream",
          "text": [
            "Epoch 8: loss: 1.844470500946045\n"
          ]
        },
        {
          "name": "stderr",
          "output_type": "stream",
          "text": [
            "Epoch: 100%|██████████| 10/10 [18:59<00:00, 113.97s/epoch]"
          ]
        },
        {
          "name": "stdout",
          "output_type": "stream",
          "text": [
            "Epoch 9: loss: 1.8392685651779175\n"
          ]
        },
        {
          "name": "stderr",
          "output_type": "stream",
          "text": [
            "\n"
          ]
        },
        {
          "data": {
            "image/png": "[encoded data removed]",
            "text/plain": [
              "<Figure size 432x288 with 1 Axes>"
            ]
          },
          "metadata": {},
          "output_type": "display_data"
        },
        {
          "name": "stdout",
          "output_type": "stream",
          "text": [
            "Files already downloaded and verified\n",
            "Total accuracy = 46.07%\n"
          ]
        }
      ],
      "source": [
        "lr_7 = 0.5\n",
        "model_7 = SimpleCNN().to(device)\n",
        "opt_7 = optim.SGD(model_7.parameters(), lr=lr_7)\n",
        "lf_7 = nn.CrossEntropyLoss()\n",
        "\n",
        "loss_history7 = train(model=model_7, learning_rate=lr_7, n_epochs=10, loss_function=lf_7, optimizer=opt_7, train_data=train_data)\n",
        "show_loss_history(loss_history7)\n",
        "test_accuracy(model_7)"
      ]
    },
    {
      "cell_type": "markdown",
      "metadata": {
        "id": "Zj8v0byADJkh"
      },
      "source": [
        "This model gives us much better accuracy than the purely linear NNs which makes sense as CNNs are generally preferred over linear NNs for image classification tasks. The time it took to train this model was also similar to my linear models, which even further improves on the argument for the use of CNNs."
      ]
    },
    {
      "cell_type": "markdown",
      "metadata": {
        "id": "yB6Ae5GKkfVl"
      },
      "source": [
        "## Learning Rate Scheduling"
      ]
    },
    {
      "cell_type": "markdown",
      "metadata": {
        "id": "Di6BOpC95CMH"
      },
      "source": [
        "One machine learning technique that I wanted to try out was learning rate scheduling. I have read a couple of articles that suggested two different types: a step schedule and a cycle schedule. Below I have tried out both. For this experiment I increased the number of epochs so that we can more plainly see the effects of the changing learning rates."
      ]
    },
    {
      "cell_type": "code",
      "execution_count": null,
      "metadata": {
        "id": "K9FpIiRJys0L"
      },
      "outputs": [],
      "source": [
        "from torch.optim.lr_scheduler import StepLR, OneCycleLR"
      ]
    },
    {
      "cell_type": "code",
      "execution_count": null,
      "metadata": {
        "colab": {
          "base_uri": "https://localhost:8080/",
          "height": 1000
        },
        "id": "zrn_dN-gzYg8",
        "outputId": "098431ca-6445-4486-c4b3-ec49bdcda2b6"
      },
      "outputs": [
        {
          "name": "stdout",
          "output_type": "stream",
          "text": [
            "Adjusting learning rate of group 0 to 2.0000e+00.\n"
          ]
        },
        {
          "name": "stderr",
          "output_type": "stream",
          "text": [
            "Epoch:   5%|▌         | 1/20 [01:46<33:50, 106.88s/epoch]"
          ]
        },
        {
          "name": "stdout",
          "output_type": "stream",
          "text": [
            "Epoch 0: loss: 2.004772424697876\n",
            "Adjusting learning rate of group 0 to 2.0000e+00.\n"
          ]
        },
        {
          "name": "stderr",
          "output_type": "stream",
          "text": [
            "\rEpoch:  10%|█         | 2/20 [03:33<32:04, 106.93s/epoch]"
          ]
        },
        {
          "name": "stdout",
          "output_type": "stream",
          "text": [
            "Epoch 1: loss: 1.9586981534957886\n",
            "Adjusting learning rate of group 0 to 2.0000e+00.\n"
          ]
        },
        {
          "name": "stderr",
          "output_type": "stream",
          "text": [
            "\rEpoch:  15%|█▌        | 3/20 [05:21<30:19, 107.05s/epoch]"
          ]
        },
        {
          "name": "stdout",
          "output_type": "stream",
          "text": [
            "Epoch 2: loss: 1.9241831302642822\n",
            "Adjusting learning rate of group 0 to 2.0000e+00.\n"
          ]
        },
        {
          "name": "stderr",
          "output_type": "stream",
          "text": [
            "\rEpoch:  20%|██        | 4/20 [07:07<28:28, 106.76s/epoch]"
          ]
        },
        {
          "name": "stdout",
          "output_type": "stream",
          "text": [
            "Epoch 3: loss: 1.9028140306472778\n",
            "Adjusting learning rate of group 0 to 1.0000e+00.\n"
          ]
        },
        {
          "name": "stderr",
          "output_type": "stream",
          "text": [
            "\rEpoch:  25%|██▌       | 5/20 [08:55<26:48, 107.23s/epoch]"
          ]
        },
        {
          "name": "stdout",
          "output_type": "stream",
          "text": [
            "Epoch 4: loss: 1.871439814567566\n",
            "Adjusting learning rate of group 0 to 1.0000e+00.\n"
          ]
        },
        {
          "name": "stderr",
          "output_type": "stream",
          "text": [
            "\rEpoch:  30%|███       | 6/20 [10:42<24:58, 107.04s/epoch]"
          ]
        },
        {
          "name": "stdout",
          "output_type": "stream",
          "text": [
            "Epoch 5: loss: 1.85989511013031\n",
            "Adjusting learning rate of group 0 to 1.0000e+00.\n"
          ]
        },
        {
          "name": "stderr",
          "output_type": "stream",
          "text": [
            "\rEpoch:  35%|███▌      | 7/20 [12:29<23:12, 107.14s/epoch]"
          ]
        },
        {
          "name": "stdout",
          "output_type": "stream",
          "text": [
            "Epoch 6: loss: 1.8521901369094849\n",
            "Adjusting learning rate of group 0 to 1.0000e+00.\n"
          ]
        },
        {
          "name": "stderr",
          "output_type": "stream",
          "text": [
            "\rEpoch:  40%|████      | 8/20 [14:16<21:24, 107.02s/epoch]"
          ]
        },
        {
          "name": "stdout",
          "output_type": "stream",
          "text": [
            "Epoch 7: loss: 1.8525311946868896\n",
            "Adjusting learning rate of group 0 to 5.0000e-01.\n"
          ]
        },
        {
          "name": "stderr",
          "output_type": "stream",
          "text": [
            "\rEpoch:  45%|████▌     | 9/20 [16:02<19:36, 106.93s/epoch]"
          ]
        },
        {
          "name": "stdout",
          "output_type": "stream",
          "text": [
            "Epoch 8: loss: 1.8361577987670898\n",
            "Adjusting learning rate of group 0 to 5.0000e-01.\n"
          ]
        },
        {
          "name": "stderr",
          "output_type": "stream",
          "text": [
            "\rEpoch:  50%|█████     | 10/20 [17:48<17:45, 106.56s/epoch]"
          ]
        },
        {
          "name": "stdout",
          "output_type": "stream",
          "text": [
            "Epoch 9: loss: 1.8318614959716797\n",
            "Adjusting learning rate of group 0 to 5.0000e-01.\n"
          ]
        },
        {
          "name": "stderr",
          "output_type": "stream",
          "text": [
            "\rEpoch:  55%|█████▌    | 11/20 [19:33<15:53, 105.91s/epoch]"
          ]
        },
        {
          "name": "stdout",
          "output_type": "stream",
          "text": [
            "Epoch 10: loss: 1.8300138711929321\n",
            "Adjusting learning rate of group 0 to 5.0000e-01.\n"
          ]
        },
        {
          "name": "stderr",
          "output_type": "stream",
          "text": [
            "\rEpoch:  60%|██████    | 12/20 [21:17<14:03, 105.38s/epoch]"
          ]
        },
        {
          "name": "stdout",
          "output_type": "stream",
          "text": [
            "Epoch 11: loss: 1.8281916379928589\n",
            "Adjusting learning rate of group 0 to 2.5000e-01.\n"
          ]
        },
        {
          "name": "stderr",
          "output_type": "stream",
          "text": [
            "\rEpoch:  65%|██████▌   | 13/20 [23:02<12:17, 105.36s/epoch]"
          ]
        },
        {
          "name": "stdout",
          "output_type": "stream",
          "text": [
            "Epoch 12: loss: 1.8153578042984009\n",
            "Adjusting learning rate of group 0 to 2.5000e-01.\n"
          ]
        },
        {
          "name": "stderr",
          "output_type": "stream",
          "text": [
            "\rEpoch:  70%|███████   | 14/20 [24:47<10:30, 105.12s/epoch]"
          ]
        },
        {
          "name": "stdout",
          "output_type": "stream",
          "text": [
            "Epoch 13: loss: 1.813260793685913\n",
            "Adjusting learning rate of group 0 to 2.5000e-01.\n"
          ]
        },
        {
          "name": "stderr",
          "output_type": "stream",
          "text": [
            "\rEpoch:  75%|███████▌  | 15/20 [26:31<08:44, 104.94s/epoch]"
          ]
        },
        {
          "name": "stdout",
          "output_type": "stream",
          "text": [
            "Epoch 14: loss: 1.810860276222229\n",
            "Adjusting learning rate of group 0 to 2.5000e-01.\n"
          ]
        },
        {
          "name": "stderr",
          "output_type": "stream",
          "text": [
            "\rEpoch:  80%|████████  | 16/20 [28:16<06:59, 104.81s/epoch]"
          ]
        },
        {
          "name": "stdout",
          "output_type": "stream",
          "text": [
            "Epoch 15: loss: 1.808234691619873\n",
            "Adjusting learning rate of group 0 to 1.2500e-01.\n"
          ]
        },
        {
          "name": "stderr",
          "output_type": "stream",
          "text": [
            "\rEpoch:  85%|████████▌ | 17/20 [30:01<05:14, 104.95s/epoch]"
          ]
        },
        {
          "name": "stdout",
          "output_type": "stream",
          "text": [
            "Epoch 16: loss: 1.8035293817520142\n",
            "Adjusting learning rate of group 0 to 1.2500e-01.\n"
          ]
        },
        {
          "name": "stderr",
          "output_type": "stream",
          "text": [
            "\rEpoch:  90%|█████████ | 18/20 [31:46<03:29, 104.85s/epoch]"
          ]
        },
        {
          "name": "stdout",
          "output_type": "stream",
          "text": [
            "Epoch 17: loss: 1.8020296096801758\n",
            "Adjusting learning rate of group 0 to 1.2500e-01.\n"
          ]
        },
        {
          "name": "stderr",
          "output_type": "stream",
          "text": [
            "\rEpoch:  95%|█████████▌| 19/20 [33:31<01:45, 105.08s/epoch]"
          ]
        },
        {
          "name": "stdout",
          "output_type": "stream",
          "text": [
            "Epoch 18: loss: 1.8006443977355957\n",
            "Adjusting learning rate of group 0 to 1.2500e-01.\n"
          ]
        },
        {
          "name": "stderr",
          "output_type": "stream",
          "text": [
            "Epoch: 100%|██████████| 20/20 [35:17<00:00, 105.88s/epoch]"
          ]
        },
        {
          "name": "stdout",
          "output_type": "stream",
          "text": [
            "Epoch 19: loss: 1.7990833520889282\n",
            "Adjusting learning rate of group 0 to 6.2500e-02.\n"
          ]
        },
        {
          "name": "stderr",
          "output_type": "stream",
          "text": [
            "\n"
          ]
        },
        {
          "data": {
            "image/png": "[encoded data removed]",
            "text/plain": [
              "<Figure size 432x288 with 1 Axes>"
            ]
          },
          "metadata": {},
          "output_type": "display_data"
        },
        {
          "name": "stdout",
          "output_type": "stream",
          "text": [
            "Files already downloaded and verified\n",
            "Total accuracy = 47.18%\n",
            "Adjusting learning rate of group 0 to 3.0000e-02.\n"
          ]
        },
        {
          "name": "stderr",
          "output_type": "stream",
          "text": [
            "Epoch:   5%|▌         | 1/20 [01:44<33:11, 104.81s/epoch]"
          ]
        },
        {
          "name": "stdout",
          "output_type": "stream",
          "text": [
            "Epoch 0: loss: 1.9979630708694458\n",
            "Adjusting learning rate of group 0 to 9.8754e-02.\n"
          ]
        },
        {
          "name": "stderr",
          "output_type": "stream",
          "text": [
            "\rEpoch:  10%|█         | 2/20 [03:30<31:35, 105.30s/epoch]"
          ]
        },
        {
          "name": "stdout",
          "output_type": "stream",
          "text": [
            "Epoch 1: loss: 1.9472367763519287\n",
            "Adjusting learning rate of group 0 to 2.7875e-01.\n"
          ]
        },
        {
          "name": "stderr",
          "output_type": "stream",
          "text": [
            "\rEpoch:  15%|█▌        | 3/20 [05:15<29:45, 105.05s/epoch]"
          ]
        },
        {
          "name": "stdout",
          "output_type": "stream",
          "text": [
            "Epoch 2: loss: 1.935851812362671\n",
            "Adjusting learning rate of group 0 to 5.0125e-01.\n"
          ]
        },
        {
          "name": "stderr",
          "output_type": "stream",
          "text": [
            "\rEpoch:  20%|██        | 4/20 [07:00<28:00, 105.01s/epoch]"
          ]
        },
        {
          "name": "stdout",
          "output_type": "stream",
          "text": [
            "Epoch 3: loss: 1.9284515380859375\n",
            "Adjusting learning rate of group 0 to 6.8125e-01.\n"
          ]
        },
        {
          "name": "stderr",
          "output_type": "stream",
          "text": [
            "\rEpoch:  25%|██▌       | 5/20 [08:46<26:24, 105.66s/epoch]"
          ]
        },
        {
          "name": "stdout",
          "output_type": "stream",
          "text": [
            "Epoch 4: loss: 1.921242594718933\n",
            "Adjusting learning rate of group 0 to 7.5000e-01.\n"
          ]
        },
        {
          "name": "stderr",
          "output_type": "stream",
          "text": [
            "\rEpoch:  30%|███       | 6/20 [10:35<24:54, 106.75s/epoch]"
          ]
        },
        {
          "name": "stdout",
          "output_type": "stream",
          "text": [
            "Epoch 5: loss: 1.956843376159668\n",
            "Adjusting learning rate of group 0 to 7.4060e-01.\n"
          ]
        },
        {
          "name": "stderr",
          "output_type": "stream",
          "text": [
            "\rEpoch:  35%|███▌      | 7/20 [12:28<23:33, 108.75s/epoch]"
          ]
        },
        {
          "name": "stdout",
          "output_type": "stream",
          "text": [
            "Epoch 6: loss: 1.9398753643035889\n",
            "Adjusting learning rate of group 0 to 7.1286e-01.\n"
          ]
        },
        {
          "name": "stderr",
          "output_type": "stream",
          "text": [
            "\rEpoch:  40%|████      | 8/20 [14:25<22:14, 111.17s/epoch]"
          ]
        },
        {
          "name": "stdout",
          "output_type": "stream",
          "text": [
            "Epoch 7: loss: 1.927774429321289\n",
            "Adjusting learning rate of group 0 to 6.6819e-01.\n"
          ]
        },
        {
          "name": "stderr",
          "output_type": "stream",
          "text": [
            "\rEpoch:  45%|████▌     | 9/20 [16:21<20:41, 112.83s/epoch]"
          ]
        },
        {
          "name": "stdout",
          "output_type": "stream",
          "text": [
            "Epoch 8: loss: 1.94500732421875\n",
            "Adjusting learning rate of group 0 to 6.0881e-01.\n"
          ]
        },
        {
          "name": "stderr",
          "output_type": "stream",
          "text": [
            "\rEpoch:  50%|█████     | 10/20 [18:21<19:10, 115.08s/epoch]"
          ]
        },
        {
          "name": "stdout",
          "output_type": "stream",
          "text": [
            "Epoch 9: loss: 1.949247121810913\n",
            "Adjusting learning rate of group 0 to 5.3771e-01.\n"
          ]
        },
        {
          "name": "stderr",
          "output_type": "stream",
          "text": [
            "\rEpoch:  55%|█████▌    | 11/20 [20:22<17:31, 116.86s/epoch]"
          ]
        },
        {
          "name": "stdout",
          "output_type": "stream",
          "text": [
            "Epoch 10: loss: 1.9276213645935059\n",
            "Adjusting learning rate of group 0 to 4.5845e-01.\n"
          ]
        },
        {
          "name": "stderr",
          "output_type": "stream",
          "text": [
            "\rEpoch:  60%|██████    | 12/20 [22:23<15:45, 118.13s/epoch]"
          ]
        },
        {
          "name": "stdout",
          "output_type": "stream",
          "text": [
            "Epoch 11: loss: 1.9344699382781982\n",
            "Adjusting learning rate of group 0 to 3.7500e-01.\n"
          ]
        },
        {
          "name": "stderr",
          "output_type": "stream",
          "text": [
            "\rEpoch:  65%|██████▌   | 13/20 [24:25<13:54, 119.18s/epoch]"
          ]
        },
        {
          "name": "stdout",
          "output_type": "stream",
          "text": [
            "Epoch 12: loss: 1.9380944967269897\n",
            "Adjusting learning rate of group 0 to 2.9156e-01.\n"
          ]
        },
        {
          "name": "stderr",
          "output_type": "stream",
          "text": [
            "\rEpoch:  70%|███████   | 14/20 [26:28<12:03, 120.57s/epoch]"
          ]
        },
        {
          "name": "stdout",
          "output_type": "stream",
          "text": [
            "Epoch 13: loss: 1.9275535345077515\n",
            "Adjusting learning rate of group 0 to 2.1230e-01.\n"
          ]
        },
        {
          "name": "stderr",
          "output_type": "stream",
          "text": [
            "\rEpoch:  75%|███████▌  | 15/20 [28:29<10:02, 120.55s/epoch]"
          ]
        },
        {
          "name": "stdout",
          "output_type": "stream",
          "text": [
            "Epoch 14: loss: 1.9220367670059204\n",
            "Adjusting learning rate of group 0 to 1.4119e-01.\n"
          ]
        },
        {
          "name": "stderr",
          "output_type": "stream",
          "text": [
            "\rEpoch:  80%|████████  | 16/20 [30:30<08:02, 120.62s/epoch]"
          ]
        },
        {
          "name": "stdout",
          "output_type": "stream",
          "text": [
            "Epoch 15: loss: 1.9198040962219238\n",
            "Adjusting learning rate of group 0 to 8.1816e-02.\n"
          ]
        },
        {
          "name": "stderr",
          "output_type": "stream",
          "text": [
            "\rEpoch:  85%|████████▌ | 17/20 [32:30<06:01, 120.58s/epoch]"
          ]
        },
        {
          "name": "stdout",
          "output_type": "stream",
          "text": [
            "Epoch 16: loss: 1.9046547412872314\n",
            "Adjusting learning rate of group 0 to 3.7140e-02.\n"
          ]
        },
        {
          "name": "stderr",
          "output_type": "stream",
          "text": [
            "\rEpoch:  90%|█████████ | 18/20 [34:31<04:01, 120.67s/epoch]"
          ]
        },
        {
          "name": "stdout",
          "output_type": "stream",
          "text": [
            "Epoch 17: loss: 1.8995155096054077\n",
            "Adjusting learning rate of group 0 to 9.4050e-03.\n"
          ]
        },
        {
          "name": "stderr",
          "output_type": "stream",
          "text": [
            "\rEpoch:  95%|█████████▌| 19/20 [36:31<02:00, 120.52s/epoch]"
          ]
        },
        {
          "name": "stdout",
          "output_type": "stream",
          "text": [
            "Epoch 18: loss: 1.8902336359024048\n",
            "Adjusting learning rate of group 0 to 3.0000e-06.\n"
          ]
        },
        {
          "name": "stderr",
          "output_type": "stream",
          "text": [
            "Epoch: 100%|██████████| 20/20 [38:31<00:00, 115.60s/epoch]"
          ]
        },
        {
          "name": "stdout",
          "output_type": "stream",
          "text": [
            "Epoch 19: loss: 1.8896435499191284\n",
            "Adjusting learning rate of group 0 to 9.4050e-03.\n"
          ]
        },
        {
          "name": "stderr",
          "output_type": "stream",
          "text": [
            "\n"
          ]
        },
        {
          "data": {
            "image/png": "[encoded data removed]",
            "text/plain": [
              "<Figure size 432x288 with 1 Axes>"
            ]
          },
          "metadata": {},
          "output_type": "display_data"
        },
        {
          "name": "stdout",
          "output_type": "stream",
          "text": [
            "Files already downloaded and verified\n",
            "Total accuracy = 33.79%\n"
          ]
        }
      ],
      "source": [
        "## Step schedule\n",
        "\n",
        "lr_8 = 2\n",
        "model_8 = SimpleCNN().to(device)\n",
        "opt_8 = optim.SGD(model_8.parameters(), lr=lr_8)\n",
        "lf_8 = nn.CrossEntropyLoss()\n",
        "\n",
        "# Halfs the learning rate every 2 epochs\n",
        "scheduler_8 = StepLR(optimizer=opt_8, step_size=4, gamma=0.5, verbose=True)\n",
        "\n",
        "loss_history8 = train(model=model_8, learning_rate=lr_8, n_epochs=20, loss_function=lf_8, optimizer=opt_8, train_data=train_data, lr_sched=True, scheduler=scheduler_8)\n",
        "show_loss_history(loss_history8)\n",
        "test_accuracy(model_8)\n",
        "\n",
        "## Cycle schedule\n",
        "lr_9 = 0.5\n",
        "model_9 = SimpleCNN().to(device)\n",
        "opt_9 = optim.SGD(model_9.parameters(), lr=lr_9)\n",
        "lf_9 = nn.CrossEntropyLoss()\n",
        "\n",
        "# Halfs the learning rate every 2 epochs\n",
        "scheduler_9 = OneCycleLR(optimizer=opt_9, max_lr=0.75, anneal_strategy='cos',steps_per_epoch=1, epochs=20, verbose=True)\n",
        "\n",
        "loss_history9 = train(model=model_9, learning_rate=lr_9, n_epochs=20, loss_function=lf_9, optimizer=opt_9, train_data=train_data, lr_sched=True, scheduler=scheduler_9)\n",
        "show_loss_history(loss_history9)\n",
        "test_accuracy(model_9)"
      ]
    },
    {
      "cell_type": "markdown",
      "metadata": {
        "id": "snx6Urrb5Nqe"
      },
      "source": [
        "The above results will change with every run because of the stochastic nature of these models. However, every time I have ran this script I have seen that the step schedule performs better than the cycle (and better than the CNN without a lr schedule). This makes sense for this situation with a pretty limited number of epochs and unintialized weights.\n",
        "\n",
        "The cosine cycle schedule gave interesting results, but marginal accuracy. When I ran this I often saw a loss function that was very unique. Specifically as it was seemingly already converged the loss would go up and then decrease again at the end. I am not sure if this is a common feature of cycle learning rate schedules or if it has something to do with this particular implementation."
      ]
    },
    {
      "cell_type": "markdown",
      "metadata": {
        "id": "dc25FAq7klCW"
      },
      "source": [
        "## Different Optimization Algorithms"
      ]
    },
    {
      "cell_type": "markdown",
      "metadata": {
        "id": "I3yiTujI5P0h"
      },
      "source": [
        "For a final little experiment with our basic baseline CNN, I wanted to try out a couple of different optimization algorithms. First, I added momentum to the stochastic gradient descent equation. I find it interesting that SGD in pytorch doesn't automatically add momentum."
      ]
    },
    {
      "cell_type": "code",
      "execution_count": null,
      "metadata": {
        "colab": {
          "base_uri": "https://localhost:8080/",
          "height": 521
        },
        "id": "BTNPFCmd5duR",
        "outputId": "a4a4df78-1fdf-48fa-d5de-9912d1c445fa"
      },
      "outputs": [
        {
          "name": "stderr",
          "output_type": "stream",
          "text": [
            "Epoch:  10%|█         | 1/10 [01:58<17:46, 118.53s/epoch]"
          ]
        },
        {
          "name": "stdout",
          "output_type": "stream",
          "text": [
            "Epoch 0: loss: 2.056964635848999\n"
          ]
        },
        {
          "name": "stderr",
          "output_type": "stream",
          "text": [
            "\rEpoch:  20%|██        | 2/10 [03:49<15:14, 114.36s/epoch]"
          ]
        },
        {
          "name": "stdout",
          "output_type": "stream",
          "text": [
            "Epoch 1: loss: 2.0257821083068848\n"
          ]
        },
        {
          "name": "stderr",
          "output_type": "stream",
          "text": [
            "\rEpoch:  30%|███       | 3/10 [05:54<13:53, 119.13s/epoch]"
          ]
        },
        {
          "name": "stdout",
          "output_type": "stream",
          "text": [
            "Epoch 2: loss: 2.043708324432373\n"
          ]
        },
        {
          "name": "stderr",
          "output_type": "stream",
          "text": [
            "\rEpoch:  40%|████      | 4/10 [08:03<12:17, 122.84s/epoch]"
          ]
        },
        {
          "name": "stdout",
          "output_type": "stream",
          "text": [
            "Epoch 3: loss: 2.01060152053833\n"
          ]
        },
        {
          "name": "stderr",
          "output_type": "stream",
          "text": [
            "\rEpoch:  50%|█████     | 5/10 [10:18<10:35, 127.13s/epoch]"
          ]
        },
        {
          "name": "stdout",
          "output_type": "stream",
          "text": [
            "Epoch 4: loss: 2.0224297046661377\n"
          ]
        },
        {
          "name": "stderr",
          "output_type": "stream",
          "text": [
            "\rEpoch:  60%|██████    | 6/10 [12:29<08:33, 128.49s/epoch]"
          ]
        },
        {
          "name": "stdout",
          "output_type": "stream",
          "text": [
            "Epoch 5: loss: 2.024218797683716\n"
          ]
        },
        {
          "name": "stderr",
          "output_type": "stream",
          "text": [
            "\rEpoch:  70%|███████   | 7/10 [14:32<06:20, 126.83s/epoch]"
          ]
        },
        {
          "name": "stdout",
          "output_type": "stream",
          "text": [
            "Epoch 6: loss: 2.0028042793273926\n"
          ]
        },
        {
          "name": "stderr",
          "output_type": "stream",
          "text": [
            "\rEpoch:  80%|████████  | 8/10 [16:35<04:10, 125.50s/epoch]"
          ]
        },
        {
          "name": "stdout",
          "output_type": "stream",
          "text": [
            "Epoch 7: loss: 2.0080645084381104\n"
          ]
        },
        {
          "name": "stderr",
          "output_type": "stream",
          "text": [
            "\rEpoch:  90%|█████████ | 9/10 [18:39<02:05, 125.01s/epoch]"
          ]
        },
        {
          "name": "stdout",
          "output_type": "stream",
          "text": [
            "Epoch 8: loss: 2.0225768089294434\n"
          ]
        },
        {
          "name": "stderr",
          "output_type": "stream",
          "text": [
            "Epoch: 100%|██████████| 10/10 [20:40<00:00, 124.01s/epoch]"
          ]
        },
        {
          "name": "stdout",
          "output_type": "stream",
          "text": [
            "Epoch 9: loss: 2.0049121379852295\n"
          ]
        },
        {
          "name": "stderr",
          "output_type": "stream",
          "text": [
            "\n"
          ]
        },
        {
          "data": {
            "image/png": "[encoded data removed]",
            "text/plain": [
              "<Figure size 432x288 with 1 Axes>"
            ]
          },
          "metadata": {},
          "output_type": "display_data"
        },
        {
          "name": "stdout",
          "output_type": "stream",
          "text": [
            "Files already downloaded and verified\n",
            "Total accuracy = 25.70%\n"
          ]
        }
      ],
      "source": [
        "# Adding momentum to our SGD optimization\n",
        "\n",
        "lr_10 = 0.5\n",
        "model_10 = SimpleCNN().to(device)\n",
        "opt_10 = optim.SGD(model_10.parameters(), lr=lr_10, momentum=0.9)\n",
        "lf_10 = nn.CrossEntropyLoss()\n",
        "\n",
        "loss_history10 = train(model=model_10, learning_rate=lr_10, n_epochs=10, loss_function=lf_10, optimizer=opt_10, train_data=train_data)\n",
        "show_loss_history(loss_history10)\n",
        "test_accuracy(model_10)"
      ]
    },
    {
      "cell_type": "markdown",
      "metadata": {
        "id": "8tT4rXqo0lkb"
      },
      "source": [
        "I was surprised that adding momentum ultimately decreased the accuracy of the model. From what I read it seemed like SGD with momentum was generally considered standard practice. I didn't have time to play around with the momentum value or changing up the learning rate, but I am thinking that might've given me some different results."
      ]
    },
    {
      "cell_type": "markdown",
      "metadata": {
        "id": "DiaPaEsQjxJf"
      },
      "source": [
        "I also wanted to try out another optimization method that was different than SGD so I poked around a bit and found the Adam optimization algorithm. After playing with the parameters for a while I found that Adam performs very poorly with the learning rate of 0.5 that I have generally been using above. It seems this particular optimizer works best with much lower learning rates which is why I use a rate of 0.001 below."
      ]
    },
    {
      "cell_type": "code",
      "execution_count": null,
      "metadata": {
        "colab": {
          "base_uri": "https://localhost:8080/",
          "height": 521
        },
        "id": "nJ4W_U7eQV_7",
        "outputId": "ad36ae68-67f0-48f4-89d7-03203662b384"
      },
      "outputs": [
        {
          "name": "stderr",
          "output_type": "stream",
          "text": [
            "Epoch:  10%|█         | 1/10 [01:44<15:42, 104.72s/epoch]"
          ]
        },
        {
          "name": "stdout",
          "output_type": "stream",
          "text": [
            "Epoch 0: loss: 1.996573805809021\n"
          ]
        },
        {
          "name": "stderr",
          "output_type": "stream",
          "text": [
            "\rEpoch:  20%|██        | 2/10 [03:29<13:56, 104.50s/epoch]"
          ]
        },
        {
          "name": "stdout",
          "output_type": "stream",
          "text": [
            "Epoch 1: loss: 1.9483972787857056\n"
          ]
        },
        {
          "name": "stderr",
          "output_type": "stream",
          "text": [
            "\rEpoch:  30%|███       | 3/10 [05:12<12:08, 104.06s/epoch]"
          ]
        },
        {
          "name": "stdout",
          "output_type": "stream",
          "text": [
            "Epoch 2: loss: 1.9093786478042603\n"
          ]
        },
        {
          "name": "stderr",
          "output_type": "stream",
          "text": [
            "\rEpoch:  40%|████      | 4/10 [06:57<10:25, 104.26s/epoch]"
          ]
        },
        {
          "name": "stdout",
          "output_type": "stream",
          "text": [
            "Epoch 3: loss: 1.8817493915557861\n"
          ]
        },
        {
          "name": "stderr",
          "output_type": "stream",
          "text": [
            "\rEpoch:  50%|█████     | 5/10 [08:42<08:42, 104.48s/epoch]"
          ]
        },
        {
          "name": "stdout",
          "output_type": "stream",
          "text": [
            "Epoch 4: loss: 1.8695486783981323\n"
          ]
        },
        {
          "name": "stderr",
          "output_type": "stream",
          "text": [
            "\rEpoch:  60%|██████    | 6/10 [10:25<06:56, 104.23s/epoch]"
          ]
        },
        {
          "name": "stdout",
          "output_type": "stream",
          "text": [
            "Epoch 5: loss: 1.8619788885116577\n"
          ]
        },
        {
          "name": "stderr",
          "output_type": "stream",
          "text": [
            "\rEpoch:  70%|███████   | 7/10 [12:09<05:12, 104.14s/epoch]"
          ]
        },
        {
          "name": "stdout",
          "output_type": "stream",
          "text": [
            "Epoch 6: loss: 1.85783851146698\n"
          ]
        },
        {
          "name": "stderr",
          "output_type": "stream",
          "text": [
            "\rEpoch:  80%|████████  | 8/10 [13:53<03:28, 104.05s/epoch]"
          ]
        },
        {
          "name": "stdout",
          "output_type": "stream",
          "text": [
            "Epoch 7: loss: 1.8388426303863525\n"
          ]
        },
        {
          "name": "stderr",
          "output_type": "stream",
          "text": [
            "\rEpoch:  90%|█████████ | 9/10 [15:39<01:44, 104.64s/epoch]"
          ]
        },
        {
          "name": "stdout",
          "output_type": "stream",
          "text": [
            "Epoch 8: loss: 1.8373565673828125\n"
          ]
        },
        {
          "name": "stderr",
          "output_type": "stream",
          "text": [
            "Epoch: 100%|██████████| 10/10 [17:39<00:00, 105.96s/epoch]"
          ]
        },
        {
          "name": "stdout",
          "output_type": "stream",
          "text": [
            "Epoch 9: loss: 1.8201936483383179\n"
          ]
        },
        {
          "name": "stderr",
          "output_type": "stream",
          "text": [
            "\n"
          ]
        },
        {
          "data": {
            "image/png": "[encoded data removed]",
            "text/plain": [
              "<Figure size 432x288 with 1 Axes>"
            ]
          },
          "metadata": {},
          "output_type": "display_data"
        },
        {
          "name": "stdout",
          "output_type": "stream",
          "text": [
            "Files already downloaded and verified\n",
            "Total accuracy = 42.34%\n"
          ]
        }
      ],
      "source": [
        "# Trying out Adam optimization\n",
        "\n",
        "lr_11 = 0.001\n",
        "model_11 = SimpleCNN()\n",
        "opt_11 = optim.Adam(model_11.parameters(), lr=lr_11)\n",
        "lf_11 = nn.CrossEntropyLoss()\n",
        "\n",
        "loss_history11 = train(model=model_11, learning_rate=lr_11, n_epochs=10, loss_function=lf_11, optimizer=opt_11, train_data=train_data)\n",
        "show_loss_history(loss_history11)\n",
        "test_accuracy(model_11)"
      ]
    },
    {
      "cell_type": "markdown",
      "metadata": {
        "id": "sAgyk26x1NaC"
      },
      "source": [
        "The results of this new optimization algorithm were not notably better or worse than SGD. To me it seems like Adam would be good for certain particular situations, but maybe not a general case such as CIFAR10."
      ]
    },
    {
      "cell_type": "markdown",
      "metadata": {
        "id": "R2tPl5LHoVet"
      },
      "source": [
        "## Messing Around CNN"
      ]
    },
    {
      "cell_type": "markdown",
      "metadata": {
        "id": "kvSJ091h2HJ9"
      },
      "source": [
        "For my final experiment with convolutional neural networks I just wanted to play around with some different activation functions in the architecture. So, instead of RELUs I used ELUs."
      ]
    },
    {
      "cell_type": "code",
      "execution_count": null,
      "metadata": {
        "id": "3XVVXKcqoZJ2"
      },
      "outputs": [],
      "source": [
        "class MyCNN(nn.Module):\n",
        "\n",
        "  def __init__(self):\n",
        "    super().__init__()\n",
        "    self.conv = nn.Sequential(\n",
        "        nn.Conv2d(3, 16, kernel_size=3, padding=1, stride=1),\n",
        "        nn.BatchNorm2d(16),\n",
        "        nn.Conv2d(16, 32, kernel_size=3, padding=1, stride=1),\n",
        "        nn.BatchNorm2d(32)\n",
        "    )\n",
        "    self.fc = nn.Sequential(\n",
        "        nn.Linear(32*32*32, 32),\n",
        "        nn.ELU(),\n",
        "        nn.Linear(32, 10),\n",
        "        nn.Sigmoid()\n",
        "    )\n",
        "\n",
        "  def forward(self, x):\n",
        "    # Put image through convolutional portion\n",
        "    x = self.conv(x)\n",
        "    # Then flatten and put through fc portion\n",
        "    b, c, h, w = x.shape\n",
        "    x = x.view(b,-1)\n",
        "    #print(x)\n",
        "    x = self.fc(x)\n",
        "    return x"
      ]
    },
    {
      "cell_type": "markdown",
      "metadata": {
        "id": "LprGgyIPxg1Q"
      },
      "source": [
        "For the training I decided to apply some of the stuff that I played around with above. In particular I used the step schedule for the learning rate--I considered using Adam too but decided to go with what got me results which would be SGD."
      ]
    },
    {
      "cell_type": "code",
      "execution_count": null,
      "metadata": {
        "colab": {
          "base_uri": "https://localhost:8080/",
          "height": 694
        },
        "id": "t2Ti4g4oozHq",
        "outputId": "57ffc053-6439-4df4-f6b2-f7213b85c913"
      },
      "outputs": [
        {
          "name": "stdout",
          "output_type": "stream",
          "text": [
            "Adjusting learning rate of group 0 to 5.0000e-01.\n"
          ]
        },
        {
          "name": "stderr",
          "output_type": "stream",
          "text": [
            "Epoch:  10%|█         | 1/10 [01:12<10:48, 72.02s/epoch]"
          ]
        },
        {
          "name": "stdout",
          "output_type": "stream",
          "text": [
            "Epoch 0: loss: 1.974033236503601\n",
            "Adjusting learning rate of group 0 to 5.0000e-01.\n"
          ]
        },
        {
          "name": "stderr",
          "output_type": "stream",
          "text": [
            "\rEpoch:  20%|██        | 2/10 [02:20<09:19, 69.93s/epoch]"
          ]
        },
        {
          "name": "stdout",
          "output_type": "stream",
          "text": [
            "Epoch 1: loss: 1.9320207834243774\n",
            "Adjusting learning rate of group 0 to 2.5000e-01.\n"
          ]
        },
        {
          "name": "stderr",
          "output_type": "stream",
          "text": [
            "\rEpoch:  30%|███       | 3/10 [03:25<07:54, 67.84s/epoch]"
          ]
        },
        {
          "name": "stdout",
          "output_type": "stream",
          "text": [
            "Epoch 2: loss: 1.9045599699020386\n",
            "Adjusting learning rate of group 0 to 2.5000e-01.\n"
          ]
        },
        {
          "name": "stderr",
          "output_type": "stream",
          "text": [
            "\rEpoch:  40%|████      | 4/10 [04:29<06:36, 66.04s/epoch]"
          ]
        },
        {
          "name": "stdout",
          "output_type": "stream",
          "text": [
            "Epoch 3: loss: 1.891772985458374\n",
            "Adjusting learning rate of group 0 to 1.2500e-01.\n"
          ]
        },
        {
          "name": "stderr",
          "output_type": "stream",
          "text": [
            "\rEpoch:  50%|█████     | 5/10 [05:32<05:25, 65.04s/epoch]"
          ]
        },
        {
          "name": "stdout",
          "output_type": "stream",
          "text": [
            "Epoch 4: loss: 1.8778902292251587\n",
            "Adjusting learning rate of group 0 to 1.2500e-01.\n"
          ]
        },
        {
          "name": "stderr",
          "output_type": "stream",
          "text": [
            "\rEpoch:  60%|██████    | 6/10 [06:35<04:17, 64.46s/epoch]"
          ]
        },
        {
          "name": "stdout",
          "output_type": "stream",
          "text": [
            "Epoch 5: loss: 1.8730640411376953\n",
            "Adjusting learning rate of group 0 to 6.2500e-02.\n"
          ]
        },
        {
          "name": "stderr",
          "output_type": "stream",
          "text": [
            "\rEpoch:  70%|███████   | 7/10 [07:40<03:13, 64.55s/epoch]"
          ]
        },
        {
          "name": "stdout",
          "output_type": "stream",
          "text": [
            "Epoch 6: loss: 1.868177890777588\n",
            "Adjusting learning rate of group 0 to 6.2500e-02.\n"
          ]
        },
        {
          "name": "stderr",
          "output_type": "stream",
          "text": [
            "\rEpoch:  80%|████████  | 8/10 [08:43<02:08, 64.18s/epoch]"
          ]
        },
        {
          "name": "stdout",
          "output_type": "stream",
          "text": [
            "Epoch 7: loss: 1.866034984588623\n",
            "Adjusting learning rate of group 0 to 3.1250e-02.\n"
          ]
        },
        {
          "name": "stderr",
          "output_type": "stream",
          "text": [
            "\rEpoch:  90%|█████████ | 9/10 [09:47<01:03, 63.91s/epoch]"
          ]
        },
        {
          "name": "stdout",
          "output_type": "stream",
          "text": [
            "Epoch 8: loss: 1.8631861209869385\n",
            "Adjusting learning rate of group 0 to 3.1250e-02.\n"
          ]
        },
        {
          "name": "stderr",
          "output_type": "stream",
          "text": [
            "Epoch: 100%|██████████| 10/10 [10:51<00:00, 65.14s/epoch]"
          ]
        },
        {
          "name": "stdout",
          "output_type": "stream",
          "text": [
            "Epoch 9: loss: 1.862141489982605\n",
            "Adjusting learning rate of group 0 to 1.5625e-02.\n"
          ]
        },
        {
          "name": "stderr",
          "output_type": "stream",
          "text": [
            "\n"
          ]
        },
        {
          "data": {
            "image/png": "[encoded data removed]",
            "text/plain": [
              "<Figure size 432x288 with 1 Axes>"
            ]
          },
          "metadata": {},
          "output_type": "display_data"
        },
        {
          "name": "stdout",
          "output_type": "stream",
          "text": [
            "Total accuracy = 45.35%\n"
          ]
        }
      ],
      "source": [
        "lr_12 = 0.5\n",
        "model_12 = MyCNN().to(device)\n",
        "opt_12 = optim.SGD(model_12.parameters(), lr=lr_12)\n",
        "lf_12 = nn.CrossEntropyLoss()\n",
        "scheduler_12 = StepLR(optimizer=opt_12, step_size=2, gamma=0.5, verbose=True)\n",
        "\n",
        "\n",
        "loss_history12 = train(model=model_12, learning_rate=lr_12, n_epochs=10, loss_function=lf_12, optimizer=opt_12, train_data=train_data, lr_sched=True, scheduler=scheduler_12)\n",
        "show_loss_history(loss_history12)\n",
        "test_accuracy(model_12)"
      ]
    },
    {
      "cell_type": "markdown",
      "metadata": {
        "id": "YjljDuVP-F_s"
      },
      "source": [
        "I'm pretty happy with the results of my experimental CNN although I still would like to experiment with pooling layers and other architecture changes in the future."
      ]
    }
  ],
  "metadata": {
    "colab": {
      "provenance": []
    },
    "kernelspec": {
      "display_name": "Python 3",
      "name": "python3"
    },
    "language_info": {
      "name": "python"
    }
  },
  "nbformat": 4,
  "nbformat_minor": 0
}